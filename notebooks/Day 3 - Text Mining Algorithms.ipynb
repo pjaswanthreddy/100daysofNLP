{
 "cells": [
  {
   "cell_type": "markdown",
   "metadata": {},
   "source": [
    "## Association Rules\n",
    "    - Apriori Algorithm\n",
    "    - Contains three major components\n",
    "        1. Support\n",
    "        2. Confidence\n",
    "        3. Lift\n",
    "        \n",
    "        Example: Suppose Order Transactions data\n",
    "        \n",
    "        Support(item1): \n",
    "            Transactions containing item1 / Total Transactions\n",
    "        \n",
    "        Confidence(item1 -> item2):\n",
    "            likelyhood that item2 is also bought if item1 is bought\n",
    "            = (Transactions containing item1 and item 2) / (Transactions containing item1)\n",
    "\n",
    "        Lift(item1 -> item2):\n",
    "            refers to increase in ratio of item2 when item1 is sold.\n",
    "            = Confidence(item1 -> item2) / (support(item2))\n",
    "        "
   ]
  },
  {
   "cell_type": "code",
   "execution_count": 2,
   "metadata": {},
   "outputs": [
    {
     "data": {
      "text/plain": [
       "[['coke', 'beer'], ['milk', 'beer'], ['coke', 'beer', 'eggs', 'bread', 'milk']]"
      ]
     },
     "execution_count": 2,
     "metadata": {},
     "output_type": "execute_result"
    }
   ],
   "source": [
    "with open('../data/processed/grocery.txt', 'r') as f:\n",
    "    data = f.readlines()\n",
    "data = [x.replace('\\n', '').split(',') for x in data]\n",
    "data[1:4]"
   ]
  },
  {
   "cell_type": "code",
   "execution_count": 3,
   "metadata": {},
   "outputs": [
    {
     "name": "stdout",
     "output_type": "stream",
     "text": [
      "Items in Transactions: bread, beer, milk, coke, eggs\n"
     ]
    }
   ],
   "source": [
    "merged_data = sum(data, [])\n",
    "unique_items = list(set(merged_data))\n",
    "print('Items in Transactions:', ', '.join(unique_items))"
   ]
  },
  {
   "cell_type": "code",
   "execution_count": 7,
   "metadata": {},
   "outputs": [],
   "source": [
    "def cal_support(item: str, data: list) -> tuple:\n",
    "    \"\"\"\n",
    "    Function to calculate support\n",
    "    Arguemts:\n",
    "        item -> string\n",
    "        data -> list of items bought per txn\n",
    "    Returns\n",
    "        support -> Tuple containing item and support_value\n",
    "    \"\"\"\n",
    "    \n",
    "    total_transactions = len(data)\n",
    "    item_transactions = 0\n",
    "\n",
    "    for each in data:\n",
    "        if item in each:\n",
    "            item_transactions += 1\n",
    "    \n",
    "    support_value = item_transactions / total_transactions\n",
    "    support = (item, support_value)\n",
    "    return support"
   ]
  },
  {
   "cell_type": "code",
   "execution_count": 9,
   "metadata": {},
   "outputs": [],
   "source": [
    "def cal_confidence(item1: str, item2: str, data: list) -> tuple:\n",
    "    \"\"\"\n",
    "    Function to calculate confidence\n",
    "    Arguments:\n",
    "        item1 -> string\n",
    "        item2 -> string\n",
    "        data -> list of items bought per txn\n",
    "    Returns\n",
    "        confidence -> Tuple containing item1, item2, confidence value\n",
    "            of item1 -> item2\n",
    "    \"\"\"\n",
    "\n",
    "    # confidence = count(item1 & item2)/count(item1)\n",
    "    item1_count, item12_count = 0, 0\n",
    "    for each in data:\n",
    "        if item1 in each and item2 in each:\n",
    "            item12_count += 1\n",
    "        \n",
    "        if item1 in each:\n",
    "            item1_count += 1\n",
    "    \n",
    "    conf_val = 0\n",
    "    if item12_count > 0:\n",
    "        conf_val = item12_count / item1_count\n",
    "\n",
    "    return (item1, item2, conf_val)"
   ]
  },
  {
   "cell_type": "code",
   "execution_count": 15,
   "metadata": {},
   "outputs": [],
   "source": [
    "def cal_lift(item1: str, item2: str, data: list) -> tuple:\n",
    "    \"\"\"\n",
    "    Function to calculate lift\n",
    "    Arguments:\n",
    "        item1 -> string\n",
    "        item2 -> string\n",
    "        data -> list of items bought per txn\n",
    "    Returns\n",
    "        lift -> Tuple containing item1, item2, lift value\n",
    "            of item1 -> item2\n",
    "    \"\"\"\n",
    "\n",
    "    conf_item1_item2 = cal_confidence(item1, item2, data)[2]\n",
    "    supp_item2 = cal_support(item2, data)[1]\n",
    "\n",
    "    lift = conf_item1_item2/supp_item2\n",
    "\n",
    "    return (item1, item2, lift)"
   ]
  },
  {
   "cell_type": "code",
   "execution_count": 18,
   "metadata": {},
   "outputs": [],
   "source": [
    "def cal_aripori(item1: str, item2: str, data: list) -> tuple:\n",
    "    \"\"\"\n",
    "    Function to calculate lift\n",
    "    Arguments:\n",
    "        item1 -> string\n",
    "        item2 -> string\n",
    "        data -> list of items bought per txn\n",
    "    Returns\n",
    "        metrics -> entire metrics of item1 and item2\n",
    "    \"\"\"\n",
    "\n",
    "    supp_item1 = cal_support(item1, data)\n",
    "    supp_item2 = cal_support(item2, data)\n",
    "\n",
    "    confidence_item12 = cal_confidence(item1, item2, data)\n",
    "    lift_item12 = cal_lift(item1, item2, data)\n",
    "\n",
    "    output_str = '''\n",
    "        Item 1, 2: {}, {}\n",
    "        Support Item1 : {}\n",
    "        Support Item2 : {}\n",
    "        Confidence Item1 -> Item2 : {}\n",
    "        Lift Item1 -> Item2\n",
    "    '''.format(\n",
    "        item1,\n",
    "        item2,\n",
    "        supp_item1[1],\n",
    "        supp_item1[1],\n",
    "        confidence_item12[2],\n",
    "        lift_item12[2]\n",
    "    )\n",
    "    print (output_str)"
   ]
  },
  {
   "cell_type": "code",
   "execution_count": 22,
   "metadata": {},
   "outputs": [
    {
     "name": "stdout",
     "output_type": "stream",
     "text": [
      "--------------------\n",
      "\n",
      "        Item 1, 2: bread, beer\n",
      "        Support Item1 : 0.714\n",
      "        Support Item2 : 0.714\n",
      "        Confidence Item1 -> Item2 : 0.7240896358543417\n",
      "        Lift Item1 -> Item2\n",
      "    \n",
      "--------------------\n",
      "\n",
      "        Item 1, 2: bread, milk\n",
      "        Support Item1 : 0.714\n",
      "        Support Item2 : 0.714\n",
      "        Confidence Item1 -> Item2 : 0.7324929971988795\n",
      "        Lift Item1 -> Item2\n",
      "    \n",
      "--------------------\n",
      "\n",
      "        Item 1, 2: bread, coke\n",
      "        Support Item1 : 0.714\n",
      "        Support Item2 : 0.714\n",
      "        Confidence Item1 -> Item2 : 0.7366946778711485\n",
      "        Lift Item1 -> Item2\n",
      "    \n",
      "--------------------\n",
      "\n",
      "        Item 1, 2: bread, eggs\n",
      "        Support Item1 : 0.714\n",
      "        Support Item2 : 0.714\n",
      "        Confidence Item1 -> Item2 : 0.7296918767507002\n",
      "        Lift Item1 -> Item2\n",
      "    \n",
      "--------------------\n",
      "\n",
      "        Item 1, 2: beer, milk\n",
      "        Support Item1 : 0.715\n",
      "        Support Item2 : 0.715\n",
      "        Confidence Item1 -> Item2 : 0.7118881118881119\n",
      "        Lift Item1 -> Item2\n",
      "    \n",
      "--------------------\n",
      "\n",
      "        Item 1, 2: beer, coke\n",
      "        Support Item1 : 0.715\n",
      "        Support Item2 : 0.715\n",
      "        Confidence Item1 -> Item2 : 0.7188811188811188\n",
      "        Lift Item1 -> Item2\n",
      "    \n",
      "--------------------\n",
      "\n",
      "        Item 1, 2: beer, eggs\n",
      "        Support Item1 : 0.715\n",
      "        Support Item2 : 0.715\n",
      "        Confidence Item1 -> Item2 : 0.7454545454545455\n",
      "        Lift Item1 -> Item2\n",
      "    \n",
      "--------------------\n",
      "\n",
      "        Item 1, 2: milk, coke\n",
      "        Support Item1 : 0.704\n",
      "        Support Item2 : 0.704\n",
      "        Confidence Item1 -> Item2 : 0.7329545454545454\n",
      "        Lift Item1 -> Item2\n",
      "    \n",
      "--------------------\n",
      "\n",
      "        Item 1, 2: milk, eggs\n",
      "        Support Item1 : 0.704\n",
      "        Support Item2 : 0.704\n",
      "        Confidence Item1 -> Item2 : 0.7357954545454546\n",
      "        Lift Item1 -> Item2\n",
      "    \n",
      "--------------------\n",
      "\n",
      "        Item 1, 2: coke, eggs\n",
      "        Support Item1 : 0.713\n",
      "        Support Item2 : 0.713\n",
      "        Confidence Item1 -> Item2 : 0.7279102384291725\n",
      "        Lift Item1 -> Item2\n",
      "    \n"
     ]
    }
   ],
   "source": [
    "from itertools import combinations\n",
    "all_combinations = list(combinations(unique_items, 2))\n",
    "\n",
    "for item12 in all_combinations:\n",
    "    print(\"-\"*20)\n",
    "    cal_aripori(item12[0], item12[1], data)\n",
    "\n"
   ]
  }
 ],
 "metadata": {
  "interpreter": {
   "hash": "57baa5815c940fdaff4d14510622de9616cae602444507ba5d0b6727c008cbd6"
  },
  "kernelspec": {
   "display_name": "Python 3.7.8 64-bit",
   "language": "python",
   "name": "python3"
  },
  "language_info": {
   "codemirror_mode": {
    "name": "ipython",
    "version": 3
   },
   "file_extension": ".py",
   "mimetype": "text/x-python",
   "name": "python",
   "nbconvert_exporter": "python",
   "pygments_lexer": "ipython3",
   "version": "3.6.7"
  }
 },
 "nbformat": 4,
 "nbformat_minor": 2
}
